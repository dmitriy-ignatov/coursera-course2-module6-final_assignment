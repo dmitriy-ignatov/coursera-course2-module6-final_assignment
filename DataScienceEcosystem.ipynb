{
 "cells": [
  {
   "cell_type": "markdown",
   "id": "0cc9b76e-7316-4ce5-98a5-61634d1d0955",
   "metadata": {},
   "source": [
    "# Data Science Tools and Ecosystem "
   ]
  },
  {
   "cell_type": "markdown",
   "id": "02dc599f-a10e-430c-a81c-9930a816bb90",
   "metadata": {},
   "source": [
    "This notebook is an intro lab to Jupyter Notebook and its integration with Git in order to finalize the Data Science Tools and Ecosystem course from IBM offered by Coursera."
   ]
  },
  {
   "cell_type": "markdown",
   "id": "0b061290-afee-4dcf-8c06-bb1230140ff2",
   "metadata": {},
   "source": [
    "Some of the popular languages that Data Scientists use are:\n",
    "1. Python\n",
    "2. R\n",
    "3. SQL"
   ]
  },
  {
   "cell_type": "code",
   "execution_count": null,
   "id": "31aea62f-4d16-4f94-8dcf-a996c7c085a2",
   "metadata": {},
   "outputs": [],
   "source": []
  }
 ],
 "metadata": {
  "kernelspec": {
   "display_name": "Python 3 (ipykernel)",
   "language": "python",
   "name": "python3"
  },
  "language_info": {
   "codemirror_mode": {
    "name": "ipython",
    "version": 3
   },
   "file_extension": ".py",
   "mimetype": "text/x-python",
   "name": "python",
   "nbconvert_exporter": "python",
   "pygments_lexer": "ipython3",
   "version": "3.12.4"
  }
 },
 "nbformat": 4,
 "nbformat_minor": 5
}
