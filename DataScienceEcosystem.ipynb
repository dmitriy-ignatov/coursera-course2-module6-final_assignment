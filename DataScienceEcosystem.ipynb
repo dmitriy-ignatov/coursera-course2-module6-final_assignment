{
 "cells": [
  {
   "cell_type": "markdown",
   "id": "0cc9b76e-7316-4ce5-98a5-61634d1d0955",
   "metadata": {},
   "source": [
    "# Data Science Tools and Ecosystem "
   ]
  },
  {
   "cell_type": "markdown",
   "id": "2fef3bbb-09e7-4e88-9b4e-80ff91ac310d",
   "metadata": {},
   "source": [
    "This notebook is an intro lab to Jupyter Notebook and its integration with Git in order to finalize the Data Science Tools and Ecosystem course from IBM offered by Coursera."
   ]
  }
 ],
 "metadata": {
  "kernelspec": {
   "display_name": "Python 3 (ipykernel)",
   "language": "python",
   "name": "python3"
  },
  "language_info": {
   "codemirror_mode": {
    "name": "ipython",
    "version": 3
   },
   "file_extension": ".py",
   "mimetype": "text/x-python",
   "name": "python",
   "nbconvert_exporter": "python",
   "pygments_lexer": "ipython3",
   "version": "3.12.4"
  }
 },
 "nbformat": 4,
 "nbformat_minor": 5
}
