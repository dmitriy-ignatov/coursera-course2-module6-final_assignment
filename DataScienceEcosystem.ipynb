{
 "cells": [
  {
   "cell_type": "markdown",
   "id": "0cc9b76e-7316-4ce5-98a5-61634d1d0955",
   "metadata": {},
   "source": [
    "# Data Science Tools and Ecosystem "
   ]
  },
  {
   "cell_type": "markdown",
   "id": "a933c30f-2a91-450e-9d28-0f71f793a597",
   "metadata": {},
   "source": [
    "This notebook is an intro lab to Jupyter Notebook and its integration with Git in order to finalize the Data Science Tools and Ecosystem course from IBM offered by Coursera."
   ]
  },
  {
   "cell_type": "markdown",
   "id": "79cccb3e-4160-43ca-9c04-8d8dac630c6a",
   "metadata": {},
   "source": [
    "#### Objectives\n",
    "- Understand popular langauges used in data science\n",
    "- Understand common libraries and tools used in data science\n",
    "- Understand ability to evaluate basic arithmetic expressions through Python "
   ]
  },
  {
   "cell_type": "markdown",
   "id": "0b061290-afee-4dcf-8c06-bb1230140ff2",
   "metadata": {},
   "source": [
    "Some of the popular languages that Data Scientists use are:\n",
    "1. Python\n",
    "2. R\n",
    "3. SQL"
   ]
  },
  {
   "cell_type": "markdown",
   "id": "d83327a6-afed-4df8-add7-366cd3f3dca9",
   "metadata": {},
   "source": [
    "Some of the commonly used libraries used by Data Scientists include:\n",
    "1. Pandas\n",
    "2. NumPy\n",
    "3. TensorFlow"
   ]
  },
  {
   "cell_type": "markdown",
   "id": "02604465-0229-4530-b6f8-35c04ab25413",
   "metadata": {},
   "source": [
    "Three development environmet open source tools used in data science are listed in the table below:\n",
    "| Data Science Tools |\n",
    "|--------------------|\n",
    "| Jupyter Notebook   |\n",
    "| RStudio            |\n",
    "| Apache Spark       |\n"
   ]
  },
  {
   "cell_type": "markdown",
   "id": "73742fd0-229b-4ed3-8b38-aaa01bc2fa61",
   "metadata": {},
   "source": [
    "### Below are a few examples of evaluating arithmetic expressions in Python..."
   ]
  },
  {
   "cell_type": "code",
   "execution_count": 6,
   "id": "2d813053-cacb-4627-a59d-435b665bfa19",
   "metadata": {},
   "outputs": [
    {
     "data": {
      "text/plain": [
       "17"
      ]
     },
     "execution_count": 6,
     "metadata": {},
     "output_type": "execute_result"
    }
   ],
   "source": [
    "# Evaluating simple arithmetic expressions to multiply and add integers\n",
    "(3*4)+5"
   ]
  },
  {
   "cell_type": "code",
   "execution_count": 7,
   "id": "19187601-2544-4222-85c2-a86f59c41806",
   "metadata": {},
   "outputs": [
    {
     "name": "stdout",
     "output_type": "stream",
     "text": [
      "3.33\n"
     ]
    }
   ],
   "source": [
    "# Evaluating the conversion of 200 minutes into hours by dividing by 60\n",
    "200/60\n",
    "number = 200/60\n",
    "rounded_number = round(number, 2)\n",
    "print(rounded_number)"
   ]
  },
  {
   "cell_type": "markdown",
   "id": "80ce6a8a-f13b-428d-94b8-3b861e1fc80e",
   "metadata": {},
   "source": [
    "## Author:\n",
    "~ Dmitriy Ignatov"
   ]
  }
 ],
 "metadata": {
  "kernelspec": {
   "display_name": "Python 3 (ipykernel)",
   "language": "python",
   "name": "python3"
  },
  "language_info": {
   "codemirror_mode": {
    "name": "ipython",
    "version": 3
   },
   "file_extension": ".py",
   "mimetype": "text/x-python",
   "name": "python",
   "nbconvert_exporter": "python",
   "pygments_lexer": "ipython3",
   "version": "3.12.4"
  }
 },
 "nbformat": 4,
 "nbformat_minor": 5
}
